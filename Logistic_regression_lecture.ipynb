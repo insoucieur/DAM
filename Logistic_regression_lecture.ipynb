{
 "cells": [
  {
   "cell_type": "code",
   "execution_count": 1,
   "metadata": {
    "collapsed": true
   },
   "outputs": [],
   "source": [
    "from __future__ import division\n",
    "%matplotlib inline\n",
    "import numpy as np\n",
    "import matplotlib.pyplot as plt\n",
    "import math\n",
    "import random"
   ]
  },
  {
   "cell_type": "code",
   "execution_count": 18,
   "metadata": {
    "collapsed": true
   },
   "outputs": [],
   "source": [
    "def logistic(input):\n",
    "    out = np.exp(input)/(1+ np.exp(input))\n",
    "    return out"
   ]
  },
  {
   "cell_type": "code",
   "execution_count": 3,
   "metadata": {
    "collapsed": false
   },
   "outputs": [
    {
     "data": {
      "text/plain": [
       "<matplotlib.text.Text at 0x1069ebe50>"
      ]
     },
     "execution_count": 3,
     "metadata": {},
     "output_type": "execute_result"
    },
    {
     "data": {
      "image/png": "[encoded data removed]",
      "text/plain": [
       "<matplotlib.figure.Figure at 0x104fa8210>"
      ]
     },
     "metadata": {},
     "output_type": "display_data"
    }
   ],
   "source": [
    "x = np.linspace(-10,10,num=1000)\n",
    "plt.plot(x, logistic(x))\n",
    "plt.xlabel('x')\n",
    "plt.ylabel('y')\n",
    "plt.title('Plot of logistic function')"
   ]
  },
  {
   "cell_type": "markdown",
   "metadata": {},
   "source": [
    "Before continuing, let's load our dataset"
   ]
  },
  {
   "cell_type": "code",
   "execution_count": 33,
   "metadata": {
    "collapsed": false
   },
   "outputs": [],
   "source": [
    "data = np.loadtxt('admission_dataset.txt')\n",
    "data_matrix = data[:,[0,1]]\n",
    "admission_labels = data[:,2]"
   ]
  },
  {
   "cell_type": "code",
   "execution_count": 34,
   "metadata": {
    "collapsed": false
   },
   "outputs": [],
   "source": [
    "def logistic_insample(X, y, w):\n",
    "    N, num_feat = X.shape\n",
    "    E = 0\n",
    "    for n in range(N):\n",
    "        E = E + np.log(1+ np.exp(-y[n]*np.dot((np.transpose(w)), X[n,:])))\n",
    "    return E/N\n",
    "\n"
   ]
  },
  {
   "cell_type": "markdown",
   "metadata": {},
   "source": [
    "For the sake of checking our logistic log likelihood function logistic_insample, let's simulate a starting value of $w$ and evaluate"
   ]
  },
  {
   "cell_type": "code",
   "execution_count": 26,
   "metadata": {
    "collapsed": false
   },
   "outputs": [
    {
     "name": "stdout",
     "output_type": "stream",
     "text": [
      "0.940931285174\n"
     ]
    }
   ],
   "source": [
    "N, num_feat = data_matrix.shape\n",
    "#Append a column of ones to the data matrix\n",
    "onevec = np.ones((N,1))\n",
    "X = np.concatenate((onevec, data_matrix), axis = 1)\n",
    "# Let's turn the admission labels into +/- 1 labels\n",
    "y = (admission_labels-0.5)*2\n",
    "\n",
    "np.random.seed(0)\n",
    "w = 0.1*np.random.randn(num_feat + 1)\n",
    "L = logistic_insample(X, y, w)\n",
    "print(L)"
   ]
  },
  {
   "cell_type": "markdown",
   "metadata": {},
   "source": [
    "0.940931285174"
   ]
  },
  {
   "cell_type": "code",
   "execution_count": 17,
   "metadata": {
    "collapsed": true
   },
   "outputs": [],
   "source": [
    "def logistic_gradient(X, y, w):\n",
    "    N, _ = X.shape\n",
    "    g = 0*w\n",
    "    \n",
    "    for n in range(N):\n",
    "        g = g + (-y[n]*X[n,:]*logistic(-y[n]*np.dot((np.transpose(w)),X[n,:])))\n",
    "    return g/N"
   ]
  },
  {
   "cell_type": "markdown",
   "metadata": {},
   "source": [
    "Again, for checking the gradient function, let's evaluate it on our simulated $w$ value"
   ]
  },
  {
   "cell_type": "code",
   "execution_count": 21,
   "metadata": {
    "collapsed": false
   },
   "outputs": [
    {
     "name": "stdout",
     "output_type": "stream",
     "text": [
      "[ 0.3902137   1.29587263  2.22260581]\n"
     ]
    }
   ],
   "source": [
    "G = logistic_gradient(X,y,w)\n",
    "print(G)"
   ]
  },
  {
   "cell_type": "code",
   "execution_count": 7,
   "metadata": {
    "collapsed": false
   },
   "outputs": [
    {
     "name": "stdout",
     "output_type": "stream",
     "text": [
      "wine data\n"
     ]
    }
   ],
   "source": [
    "np.random.seed(0)\n",
    "from sklearn import datasets\n",
    "\n",
    "def logistic_func(theta, x):\n",
    "    return float(1) / (1 + math.e**(-x.dot(theta)))\n",
    "def log_gradient(theta, x, y):\n",
    "    first_calc = logistic_func(theta, x) - np.squeeze(y)\n",
    "    final_calc = first_calc.T.dot(x)\n",
    "    return final_calc\n",
    "def cost_func(theta, x, y):\n",
    "    log_func_v = logistic_func(theta,x)\n",
    "    y = np.squeeze(y)\n",
    "    step1 = y * np.log(log_func_v)\n",
    "    step2 = (1-y) * np.log(1 - log_func_v)\n",
    "\n",
    "    final = -step1 - step2\n",
    "    return np.mean(final)\n",
    "def grad_desc(theta_values, X, y, lr=8e-7, converge_change=1e-10, lr_change = 1.4):\n",
    "    #normalize\n",
    "    with np.errstate(divide='ignore', invalid='ignore'):\n",
    "        X = np.true_divide((X - np.mean(X, axis=0)),np.std(X, axis=0))\n",
    "        X[X == np.inf] = 0\n",
    "        X = np.nan_to_num(X)\n",
    "    #setup cost iter\n",
    "    cost_iter = [] #E_in\n",
    "    cost = cost_func(theta_values, X, y)\n",
    "    cost_iter.append([0, cost]) #E_in\n",
    "    change_cost = 1 \n",
    "    i = 1 #t \n",
    "    convergence = 0\n",
    "    while (change_cost > converge_change): #converges when there is no change in (E - E_t)\n",
    "        old_cost = cost #E = E_t\n",
    "        theta_values = theta_values - (lr * log_gradient(theta_values, X, y))\n",
    "        #w = w - (lr*g)\n",
    "        cost = cost_func(theta_values, X, y) #E_t\n",
    "        cost_iter.append([i, cost]) #append E_t to E_in\n",
    "        change_cost = old_cost - cost\n",
    "        \n",
    "         #E - E_t\n",
    "        #should consider changing learning rate here so if E - E_t > 0 then increase the learning rate\n",
    "        #otherwise slow it down\n",
    "        if old_cost > cost:\n",
    "            lr *=lr_change\n",
    "        else:\n",
    "            lr*=0.9\n",
    "        #if change_cost < converge_change:\n",
    "            #convergence = 1\n",
    "        g = log_gradient((theta_values), X, y)\n",
    "        #if np.linalg.norm(g) < 0:\n",
    "            #convergence = 1\n",
    "        \"\"\"elif i > max_i:\n",
    "            convergence = 1\"\"\"\n",
    "        i +=1\n",
    "        #t = t + 1\n",
    "    print lr, converge_change\n",
    "    return theta_values, np.array(cost_iter)\n",
    "def pred_values(theta, X, hard=True):\n",
    "    #normalize\n",
    "    with np.errstate(divide='ignore', invalid='ignore'):\n",
    "        X = np.true_divide((X - np.mean(X, axis=0)),np.std(X, axis=0))\n",
    "        X[X == np.inf] = 0\n",
    "        X = np.nan_to_num(X)\n",
    "    \n",
    "    pred_prob = logistic_func(theta, X)\n",
    "    pred_value = np.where(pred_prob >= .5, 1, 0)\n",
    "    if hard:\n",
    "        return pred_value\n",
    "    return pred_value\n",
    "\n",
    "#for i in range (0,10):\n",
    "    #w, _ = grad_desc(theta_values, X, y, lr=i*1e-7, converge_change=1e-10, max_i = 1e5)\n",
    "    #pred_label = \n",
    "#This code is based http://stackoverflow.com/questions/26248654/numpy-return-0-with-divide-by-zero[1]\n",
    "\n",
    "import numpy as np\n",
    "import matplotlib.pyplot as plt\n",
    "import math\n",
    "\n",
    "def cent(data):\n",
    "    \"\"\"Rescale features of data to have properties of a standard normal distribution with zero mean and variance of 1.\"\"\"\n",
    "    \n",
    "    np.random.seed(0) #to remove randomisation effects\n",
    "    \n",
    "    mean_cols = np.mean(data, axis=0)\n",
    "    var_cols = np.sqrt(np.var(data, axis = 0))\n",
    "    r, _ = data.shape\n",
    "    mean_matrix = np.array([mean_cols]*r)\n",
    "    var_matrix = np.array([var_cols]*r)\n",
    "    #The following part is based on [1]\n",
    "    with np.errstate(divide='ignore', invalid='ignore'):\n",
    "        cent_data = np.true_divide((data - mean_matrix),var_matrix)\n",
    "        cent_data[cent_data == np.inf] = 0\n",
    "        cent_data = np.nan_to_num(cent_data)\n",
    "    \n",
    "    return cent_data\n",
    "\n",
    "\n",
    "print 'wine data'\n",
    "X = np.loadtxt('exam/redwinedata/redwine_train.txt')\n",
    "y = np.loadtxt('exam/redwinedata/redwine_trainlabels.txt')\n",
    "#print y\n",
    "test = np.loadtxt('exam/redwinedata/redwine_test.txt')\n",
    "testlabels = np.loadtxt('exam/redwinedata/redwine_testlabels.txt')\n",
    "\n"
   ]
  },
  {
   "cell_type": "code",
   "execution_count": 54,
   "metadata": {
    "collapsed": false
   },
   "outputs": [
    {
     "name": "stdout",
     "output_type": "stream",
     "text": [
      "1.1 0.1\n",
      "[-0.00944149 -0.00011593]\n"
     ]
    }
   ],
   "source": [
    "import timeit\n",
    "start = timeit.default_timer()\n",
    "\n",
    "np.random.seed(0)\n",
    "from sklearn import datasets\n",
    "\n",
    "def logistic(input):\n",
    "    out = np.exp(input)/(1+ np.exp(input))\n",
    "    return out\n",
    "def logistic_insample(X, y, w):\n",
    "    N, num_feat = X.shape\n",
    "    E = 0\n",
    "    for n in range(N):\n",
    "        E = E + (1/N)*np.log(1/logistic(y[n]*np.dot(w,X[n,:])))\n",
    "    return E\n",
    "def logistic_gradient(X, y, w):\n",
    "    N, _ = X.shape\n",
    "    g = 0*w\n",
    "\n",
    "    for n in range(N):\n",
    "        g = g + ((-1/N)*y[n]*X[n,:])*logistic(-y[n]*np.dot(w,X[n,:]))\n",
    "    return g\n",
    "def grad_desc(w, X, y, lr=8e-3, converge_change=1e-3, lr_change = 1.4):\n",
    "    #normalize\n",
    "    with np.errstate(divide='ignore', invalid='ignore'):\n",
    "        X = np.true_divide((X - np.mean(X, axis=0)),np.std(X, axis=0))\n",
    "        X[X == np.inf] = 0\n",
    "        X = np.nan_to_num(X)\n",
    "    #setup cost iter\n",
    "    E_in = [] \n",
    "    E_t = logistic_insample(X, y, w)\n",
    "    E_in.append(E_t) \n",
    "    change_E = 1 \n",
    "    t = 1 \n",
    "    convergence = 0\n",
    "    while (change_E > converge_change): #converges when there is no change in (E - E_t)\n",
    "        E = E_t\n",
    "        w = w - (lr * logistic_gradient(X,y,w))\n",
    "        #w = w - (lr*g)\n",
    "        E_t = logistic_insample(X, y, w) \n",
    "        E_in.append(E_t) #append E_t to E_in\n",
    "        change_E = E - E_t\n",
    "        \n",
    "         #E - E_t\n",
    "        #should consider changing learning rate here so if E - E_t > 0 then increase the learning rate\n",
    "        #otherwise slow it down\n",
    "        if E > E_t:\n",
    "            lr *=lr_change\n",
    "        else:\n",
    "            lr*=0.9\n",
    "        #if change_cost < converge_change:\n",
    "            #convergence = 1\n",
    "        #if np.linalg.norm(g) < 0:\n",
    "            #convergence = 1\n",
    "        \"\"\"elif i > max_i:\n",
    "            convergence = 1\"\"\"\n",
    "        t +=1\n",
    "        #t = t + 1\n",
    "    print lr, converge_change\n",
    "    return w, np.array(E_in)\n",
    "    print w.shape\n",
    "def pred_values(w, X, hard=True):\n",
    "    #normalize\n",
    "    with np.errstate(divide='ignore', invalid='ignore'):\n",
    "        X = np.true_divide((X - np.mean(X, axis=0)),np.std(X, axis=0))\n",
    "        X[X == np.inf] = 0\n",
    "        X = np.nan_to_num(X)\n",
    "    pred_values = []\n",
    "    N, _ = X.shape\n",
    "    for n in range(N):\n",
    "        pred_prob = logistic(w.T.dot(X[n,:]) )\n",
    "        pred_value = np.where(pred_prob >= .5, 1, 0)\n",
    "        if hard:\n",
    "            pred_values.append(pred_value)\n",
    "    return pred_values\n",
    "\n",
    "r, d = data_matrix.shape\n",
    "\n",
    "betas = np.zeros(d)\n",
    "\n",
    "fitted_values, E_in = grad_desc(betas, data_matrix, y, lr=1, converge_change=1e-1, lr_change=1.1)\n",
    "print fitted_values"
   ]
  },
  {
   "cell_type": "markdown",
   "metadata": {},
   "source": [
    "[ 0.3902137   1.29587263  2.22260581]"
   ]
  },
  {
   "cell_type": "markdown",
   "metadata": {},
   "source": [
    "Having working functions for logistic log likelihood and logistic gradient, let's implement gradient descent"
   ]
  },
  {
   "cell_type": "code",
   "execution_count": 61,
   "metadata": {
    "collapsed": false
   },
   "outputs": [
    {
     "name": "stdout",
     "output_type": "stream",
     "text": [
      "18.0 0.01\n",
      "[-0.1888299  -0.00231859]\n"
     ]
    }
   ],
   "source": [
    "import timeit\n",
    "start = timeit.default_timer()\n",
    "\n",
    "np.random.seed(0)\n",
    "from sklearn import datasets\n",
    "\n",
    "def logistic(input):\n",
    "    out = np.exp(input)/(1+ np.exp(input))\n",
    "    return out\n",
    "def logistic_insample(X, y, w):\n",
    "    N, num_feat = X.shape\n",
    "    E = 0\n",
    "    for n in range(N):\n",
    "        E = E + (1/N)*np.log(1/logistic(y[n]*np.dot(w,X[n,:])))\n",
    "    return E\n",
    "def logistic_gradient(X, y, w):\n",
    "    N, _ = X.shape\n",
    "    g = 0*w\n",
    "\n",
    "    for n in range(N):\n",
    "        g = g + ((-1/N)*y[n]*X[n,:])*logistic(-y[n]*np.dot(w,X[n,:]))\n",
    "    return g\n",
    "def grad_desc(w, X, y, lr=8e-7, converge_change=1e-10, lr_change = 1.4):\n",
    "    #normalize\n",
    "    with np.errstate(divide='ignore', invalid='ignore'):\n",
    "        X = np.true_divide((X - np.mean(X, axis=0)),np.std(X, axis=0))\n",
    "        X[X == np.inf] = 0\n",
    "        X = np.nan_to_num(X)\n",
    "    #setup cost iter\n",
    "    E_in = [] \n",
    "    E_t = logistic_insample(X, y, w)\n",
    "    E_in.append(E_t) \n",
    "    change_E = 1 \n",
    "    t = 1 \n",
    "    convergence = 0\n",
    "    while (change_E > converge_change): #converges when there is no change in (E - E_t)\n",
    "        E = E_t\n",
    "        w = w - (lr * logistic_gradient(X,y,w))\n",
    "        #w = w - (lr*g)\n",
    "        E_t = logistic_insample(X, y, w) \n",
    "        E_in.append(E_t) #append E_t to E_in\n",
    "        change_E = E - E_t\n",
    "        \n",
    "         #E - E_t\n",
    "        #should consider changing learning rate here so if E - E_t > 0 then increase the learning rate\n",
    "        #otherwise slow it down\n",
    "        if E > E_t:\n",
    "            lr *=lr_change\n",
    "        else:\n",
    "            lr*=0.9\n",
    "        #if change_cost < converge_change:\n",
    "            #convergence = 1\n",
    "    \n",
    "        #if np.linalg.norm(g) < 0:\n",
    "            #convergence = 1\n",
    "        \"\"\"elif i > max_i:\n",
    "            convergence = 1\"\"\"\n",
    "        t +=1\n",
    "        #t = t + 1\n",
    "    print lr, converge_change\n",
    "    return w, np.array(E_in)\n",
    "    print w.shape\n",
    "\n",
    "\n",
    "#for i in range (0,10):\n",
    "    #w, _ = grad_desc(theta_values, X, y, lr=i*1e-7, converge_change=1e-10, max_i = 1e5)\n",
    "    #pred_label = \n",
    "#This code is based http://stackoverflow.com/questions/26248654/numpy-return-0-with-divide-by-zero[1]\n",
    "\n",
    "r, d = data_matrix.shape\n",
    "\n",
    "betas = np.zeros(d)\n",
    "\n",
    "fitted_values, E_in = grad_desc(betas, data_matrix, y, lr=20, converge_change=1e-2, lr_change=0.1)\n",
    "print fitted_values"
   ]
  },
  {
   "cell_type": "code",
   "execution_count": 29,
   "metadata": {
    "collapsed": false
   },
   "outputs": [
    {
     "name": "stdout",
     "output_type": "stream",
     "text": [
      "[[ 0.11733929  0.20826236]]\n",
      "(400, 2)\n"
     ]
    }
   ],
   "source": [
    "from sklearn import linear_model\n",
    "logreg = linear_model.LogisticRegression()\n",
    "logreg.fit(data_matrix, y)\n",
    "w = logreg.coef_\n",
    "print w\n",
    "print data_matrix.shape\n",
    "#[ 0.11733929  0.20826236]"
   ]
  },
  {
   "cell_type": "markdown",
   "metadata": {
    "collapsed": false
   },
   "source": [
    "Problem: Can you make the code faster?"
   ]
  },
  {
   "cell_type": "markdown",
   "metadata": {},
   "source": [
    "Let's evaluate the classification accuracy on the training set"
   ]
  },
  {
   "cell_type": "markdown",
   "metadata": {},
   "source": [
    "What is going on? Let's try with a weight matrix $w = [-4.9494, 0.7547, 0.2691]$ obtained by waiting much longer"
   ]
  },
  {
   "cell_type": "markdown",
   "metadata": {},
   "source": [
    "My classification accuracy is not great -- is this just not working?"
   ]
  },
  {
   "cell_type": "code",
   "execution_count": 3,
   "metadata": {
    "collapsed": true
   },
   "outputs": [],
   "source": [
    "def logistic(input):  \n",
    "    out = np.exp(input)/(1+np.exp(input))\n",
    "    return out\n",
    "def logistic_insample(X, y, w):\n",
    "    N, num_feat = X.shape\n",
    "    E = 0 #sum in the loop\n",
    "    for n in range(N):\n",
    "        E = E + (1/N)*np.log(1/logistic(y[n]*np.dot(w,X[n,:]))) #feeding it vectors\n",
    "    return E\n",
    "def logistic_gradient(X, y, w):\n",
    "    N, _ = X.shape\n",
    "    g = 0*w\n",
    "    \n",
    "    for n in range(N):\n",
    "        g = g + ((-1/N)*y[n]*X[n,:])*logistic(-y[n]*np.dot(w,X[n,:]))\n",
    "    return g"
   ]
  },
  {
   "cell_type": "code",
   "execution_count": 28,
   "metadata": {
    "collapsed": true
   },
   "outputs": [],
   "source": [
    "def log_pred(Xorig, w):\n",
    "    #X is a dxN data matrix of input variables\n",
    "    num_pts,num_feat =Xorig.shape\n",
    "    onevec=np.ones((num_pts,1))\n",
    "    X=np.concatenate((onevec,Xorig),axis=1)\n",
    "    N, _ =X.shape\n",
    "    P=np.zeros(N)\n",
    "    for n in range(N):\n",
    "        arg=np.exp(np.dot(w,X[n,:]))\n",
    "        prob_i=arg/(1+arg)\n",
    "        P[n]=prob_i\n",
    "        \n",
    "    Pthresh=np.round(P)   #0/1 class labels\n",
    "    pred_classes=(Pthresh-0.5)*2\n",
    "    return P, pred_classes"
   ]
  },
  {
   "cell_type": "code",
   "execution_count": null,
   "metadata": {
    "collapsed": true
   },
   "outputs": [],
   "source": [
    "# Set direction to move and take a step       \n",
    "        \n",
    "        ##############################################################\n",
    "        g=np.array(g)\n",
    "        w_new = w-learningrate*g"
   ]
  },
  {
   "cell_type": "code",
   "execution_count": 32,
   "metadata": {
    "collapsed": false
   },
   "outputs": [
    {
     "name": "stdout",
     "output_type": "stream",
     "text": [
      "[ 0.  1.  1.  1.  0.  1.  1.  0.  1.  0.  0.  0.  1.  0.  1.  0.  0.  0.\n",
      "  0.  1.  0.  1.  0.  0.  1.  1.  1.  1.  1.  0.  0.  0.  0.  1.  0.  0.\n",
      "  0.  0.  1.  1.  0.  1.  1.  0.  0.  1.  1.  0.  0.  0.  0.  0.  0.  1.\n",
      "  0.  1.  0.  0.  0.  0.  1.  0.  0.  1.  0.  0.  0.  0.  0.  0.  0.  0.\n",
      "  0.  0.  0.  0.  0.  1.  0.  1.  0.  0.  0.  0.  1.  0.  0.  0.  0.  1.\n",
      "  0.  1.  0.  0.  1.  0.  0.  0.  0.  0.  0.  0.  0.  0.  1.  1.  1.  0.\n",
      "  0.  0.  0.  0.  0.  0.  0.  0.  1.  0.  1.  0.  1.  1.  0.  0.  0.  0.\n",
      "  1.  0.  0.  0.  1.  0.  0.  0.  0.  0.  0.  0.  0.  1.  0.  1.  0.  0.\n",
      "  0.  0.  0.  0.  1.  0.  1.  0.  1.  0.  0.  1.  0.  1.  0.  0.  0.  0.\n",
      "  1.  0.  0.  0.  0.  0.  0.  0.  0.  0.  0.  1.  0.  1.  0.  1.  0.  0.\n",
      "  0.  0.  0.  1.  0.  0.  0.  0.  0.  0.  1.  0.  0.  0.  1.  0.  0.  1.\n",
      "  0.  0.  0.  1.  1.  0.  1.  1.  0.  1.  0.  0.  0.  0.  0.  0.  1.  1.\n",
      "  0.  1.  0.  1.  0.  0.  1.  0.  0.  1.  0.  0.  0.  1.  0.  0.  0.  0.\n",
      "  1.  0.  1.  0.  0.  0.  0.  1.  1.  0.  0.  0.  0.  0.  0.  0.  0.  0.\n",
      "  1.  1.  1.  0.  1.  1.  0.  0.  0.  0.  1.  1.  1.  0.  0.  1.  1.  0.\n",
      "  1.  0.  1.  0.  0.  1.  0.  1.  1.  1.  0.  0.  0.  0.  1.  0.  1.  1.\n",
      "  0.  0.  1.  0.  0.  0.  0.  0.  0.  0.  0.  0.  0.  1.  1.  1.  0.  0.\n",
      "  1.  0.  0.  0.  0.  0.  0.  1.  0.  1.  1.  1.  1.  0.  0.  0.  0.  0.\n",
      "  0.  0.  0.  1.  0.  0.  0.  0.  0.  0.  1.  1.  0.  0.  0.  1.  0.  1.\n",
      "  0.  0.  0.  0.  0.  0.  0.  0.  1.  0.  1.  0.  1.  1.  0.  0.  1.  0.\n",
      "  1.  1.  0.  0.  1.  0.  0.  0.  0.  0.  1.  1.  1.  1.  0.  0.  0.  1.\n",
      "  0.  0.  0.  1.  0.  0.  1.  0.  1.  0.  0.  0.  1.  1.  1.  1.  1.  0.\n",
      "  0.  0.  0.  0.]\n",
      "[ 1.  1.  1.  1.  1.  1.  1.  1.  1.  1.  1.  1.  1.  1.  1.  1.  1.  1.\n",
      "  1.  1.  1.  1.  1.  1.  1.  1.  1.  1.  1.  1.  1.  1.  1.  1.  1.  1.\n",
      "  1.  1.  1.  1.  1.  1.  1.  1.  1.  1.  1.  1.  1.  1.  1.  1.  1.  1.\n",
      "  1.  1.  1.  1.  1.  1.  1.  1.  1.  1.  1.  1.  1.  1.  1.  1.  1.  1.\n",
      "  1.  1.  1.  1.  1.  1.  1.  1.  1.  1.  1.  1.  1.  1.  1.  1.  1.  1.\n",
      "  1.  1.  1.  1.  1.  1.  1.  1.  1.  1.  1.  1.  1.  1.  1.  1.  1.  1.\n",
      "  1.  1.  1.  1.  1.  1.  1.  1.  1.  1.  1.  1.  1.  1.  1.  1.  1.  1.\n",
      "  1.  1.  1.  1.  1.  1.  1.  1.  1.  1.  1.  1.  1.  1.  1.  1.  1.  1.\n",
      "  1.  1.  1.  1.  1.  1.  1.  1.  1.  1.  1.  1.  1.  1.  1.  1.  1.  1.\n",
      "  1.  1.  1.  1.  1.  1.  1.  1.  1.  1.  1.  1.  1.  1.  1.  1.  1.  1.\n",
      "  1.  1.  1.  1.  1.  1.  1.  1.  1.  1.  1.  1.  1.  1.  1.  1.  1.  1.\n",
      "  1.  1.  1.  1.  1.  1.  1.  1.  1.  1.  1.  1.  1.  1.  1.  1.  1.  1.\n",
      "  1.  1.  1.  1.  1.  1.  1.  1.  1.  1.  1.  1.  1.  1.  1.  1.  1.  1.\n",
      "  1.  1.  1.  1.  1.  1.  1.  1.  1.  1.  1.  1.  1.  1.  1.  1.  1.  1.\n",
      "  1.  1.  1.  1.  1.  1.  1.  1.  1.  1.  1.  1.  1.  1.  1.  1.  1.  1.\n",
      "  1.  1.  1.  1.  1.  1.  1.  1.  1.  1.  1.  1.  1.  1.  1.  1.  1.  1.\n",
      "  1.  1.  1.  1.  1.  1.  1.  1.  1.  1.  1.  1.  1.  1.  1.  1.  1.  1.\n",
      "  1.  1.  1.  1.  1.  1.  1.  1.  1.  1.  1.  1.  1.  1.  1.  1.  1.  1.\n",
      "  1.  1.  1.  1.  1.  1.  1.  1.  1.  1.  1.  1.  1.  1.  1.  1.  1.  1.\n",
      "  1.  1.  1.  1.  1.  1.  1.  1.  1.  1.  1.  1.  1.  1.  1.  1.  1.  1.\n",
      "  1.  1.  1.  1.  1.  1.  1.  1.  1.  1.  1.  1.  1.  1.  1.  1.  1.  1.\n",
      "  1.  1.  1.  1.  1.  1.  1.  1.  1.  1.  1.  1.  1.  1.  1.  1.  1.  1.\n",
      "  1.  1.  1.  1.]\n"
     ]
    }
   ],
   "source": [
    "y = (admission_labels-0.5)*2\n",
    "print admission_labels\n",
    "print pred_classes"
   ]
  },
  {
   "cell_type": "code",
   "execution_count": null,
   "metadata": {
    "collapsed": true
   },
   "outputs": [],
   "source": []
  }
 ],
 "metadata": {
  "kernelspec": {
   "display_name": "Python 2",
   "language": "python",
   "name": "python2"
  },
  "language_info": {
   "codemirror_mode": {
    "name": "ipython",
    "version": 2
   },
   "file_extension": ".py",
   "mimetype": "text/x-python",
   "name": "python",
   "nbconvert_exporter": "python",
   "pygments_lexer": "ipython2",
   "version": "2.7.11"
  }
 },
 "nbformat": 4,
 "nbformat_minor": 0
}
