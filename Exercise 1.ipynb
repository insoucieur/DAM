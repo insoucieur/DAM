{
 "cells": [
  {
   "cell_type": "code",
   "execution_count": 10,
   "metadata": {},
   "outputs": [],
   "source": [
    "%matplotlib inline\n",
    "import numpy as np\n",
    "import matplotlib.pyplot as plt\n",
    "data = np.loadtxt('smoking.txt')\n",
    "type(data)\n",
    "import math\n",
    "from __future__ import division\n",
    "from scipy.stats import t"
   ]
  },
  {
   "cell_type": "markdown",
   "metadata": {},
   "source": [
    "1a) Read the data from the file smoking.txt, and divide the dataset into two groups con- sisting of smokers and non-smokers. Write a script which computes the average lung function, measured in FEV1, among the smokers and among the non-smokers, using the template meanFEV1.py supplied on Absalon. Upload your code in the automatic code checking system.\n",
    "\n",
    "b) Report your computed average FEV1 scores. Are you surprised?"
   ]
  },
  {
   "cell_type": "code",
   "execution_count": 2,
   "metadata": {},
   "outputs": [],
   "source": [
    "# data is the datamatrix of the smoking dataset, e.g. as obtained by data = numpy.loadtxt('smoking.txt')\n",
    "# should return a tuple containing average FEV1 of smokers and nonsmokers \n",
    "def meanFEV1(data):\n",
    "    age = data[:,0]\n",
    "    FEV1 = data[:,1]\n",
    "    height = data[:,2]\n",
    "    gender = data[:,3]\n",
    "    smoking_status = data[:,4]\n",
    "    weight = data[:,5]\n",
    "    nonsmoker_indices = [i for i, n in enumerate(list(smoking_status)) if n == 0]\n",
    "    smoker_indices = [i for i, n in enumerate(list(smoking_status)) if n == 1]\n",
    "    nonsmoker = data[nonsmoker_indices,:]\n",
    "    smoker = data[smoker_indices,:]\n",
    "    avg_FEV1_nonsmoker = np.mean(nonsmoker[:,1])\n",
    "    avg_FEV1_smoker = np.mean(smoker[:,1])\n",
    "    return (avg_FEV1_nonsmoker, avg_FEV1_smoker)\n",
    "    \n",
    "pass"
   ]
  },
  {
   "cell_type": "code",
   "execution_count": 3,
   "metadata": {},
   "outputs": [
    {
     "data": {
      "text/plain": [
       "(2.5661426146010187, 3.2768615384615383)"
      ]
     },
     "execution_count": 3,
     "metadata": {},
     "output_type": "execute_result"
    }
   ],
   "source": [
    "meanFEV1(data)"
   ]
  },
  {
   "cell_type": "markdown",
   "metadata": {},
   "source": [
    "Based on the supplied template hyptest.py, write a script that performs a two-sided t-test whose null hypothesis is that the two populations have the same mean. Use a significance level of α = 0.05, and return a binary response indicating acceptance or rejection of the null hypothesis. Please upload your code to the automatic code checker.\n"
   ]
  },
  {
   "cell_type": "code",
   "execution_count": 99,
   "metadata": {},
   "outputs": [],
   "source": [
    "# data is the datamatrix of the smoking dataset, e.g. as obtained by data = numpy.loadtxt('smoking.txt')\n",
    "# should return True if the null hypothesis is accepted and False otherwise\n",
    "#WORKS USING TEXTBOOK STANDARD DEVIATION\n",
    "def hyptest(data):\n",
    "    age = data[:,0]\n",
    "    FEV1 = data[:,1]\n",
    "    height = data[:,2]\n",
    "    gender = data[:,3]\n",
    "    smoking_status = data[:,4]\n",
    "    weight = data[:,5]\n",
    "    nonsmoker_indices = [i for i, n in enumerate(list(smoking_status)) if n == 0]\n",
    "    smoker_indices = [i for i, n in enumerate(list(smoking_status)) if n == 1]\n",
    "    nonsmoker = data[nonsmoker_indices,:]\n",
    "    smoker = data[smoker_indices,:]\n",
    "    x = nonsmoker[:,1]\n",
    "    y = smoker[:,1]\n",
    "    \n",
    "    #following part is from textbook:\n",
    "    def dot(v, w):\n",
    "        \"\"\"v_1 * w_1 + ... + v_n * w_n\"\"\"\n",
    "        return sum(v_i * w_i for v_i, w_i in zip(v, w))\n",
    "    def sum_of_squares(v):\n",
    "        \"\"\"v_1 * v_1 + ... + v_n * v_n\"\"\"\n",
    "        return dot(v, v)\n",
    "    def de_mean(x):\n",
    "        \"\"\"translate x by subtracting its mean (so the result has mean 0)\"\"\"\n",
    "        x_bar = np.mean(x)\n",
    "        return [x_i - x_bar for x_i in x]\n",
    "    def variance(x):\n",
    "        \"\"\"assumes x has at least two elements\"\"\"\n",
    "        n = len(x)\n",
    "        deviations = de_mean(x)\n",
    "        return sum_of_squares(deviations) / (n - 1)\n",
    "    def std_dv(x):\n",
    "        return math.sqrt(variance(x))\n",
    "    \n",
    "    sx_sqr = std_dv(x)**2\n",
    "    sy_sqr = std_dv(y)**2\n",
    "    nx = len(x)\n",
    "    ny = len(y)\n",
    "    nx_sqr = nx**2\n",
    "    ny_sqr = ny**2\n",
    "    \n",
    "    if std_dv(x) != 0 and std_dv(y) !=0:\n",
    "        t_stats = ( np.mean(x) - np.mean(y) )/( np.sqrt((sx_sqr/nx)+(sy_sqr/ny)) )\n",
    "        v = ( (sx_sqr/nx + sy_sqr/ny)**2 )/( (sx_sqr**2/(nx_sqr*(nx-1))) + ( sy_sqr**2/(ny_sqr*(ny-1))))\n",
    "\n",
    "        p = 2*t.cdf(-abs(t_stats),v)\n",
    "        print t_stats, v, p\n",
    "        \n",
    "        alpha = 0.05 #probability of falsely rejecting the null hypothesis\n",
    "        if p <= alpha:\n",
    "            return 1\n",
    "        else:\n",
    "            return 0\n",
    "        \n",
    "        #from solutions\n",
    "        \"\"\"t_top = smokers_mean_FEV1 - nonsmokers_mean_FEV1\n",
    "        t_bottom = math.sqrt(smokers_std_FEV1**2/smokers_nu)\n",
    "        t0 = t_top/t_bottom\n",
    "        \n",
    "        pval = 2*t.cdf(-math.fabs(t0), nu_floor)\n",
    "        \n",
    "        return pval < 0.05\"\"\"\n",
    "        \n",
    "\n"
   ]
  },
  {
   "cell_type": "code",
   "execution_count": 100,
   "metadata": {},
   "outputs": [
    {
     "data": {
      "text/plain": [
       "(-7.1496081295038083, 3.0738127448762341e-10)"
      ]
     },
     "execution_count": 100,
     "metadata": {},
     "output_type": "execute_result"
    }
   ],
   "source": [
    "from scipy import stats\n",
    "smoking_status = data[:,4]\n",
    "nonsmoker_indices = [i for i, n in enumerate(list(smoking_status)) if n == 0]\n",
    "smoker_indices = [i for i, n in enumerate(list(smoking_status)) if n == 1]\n",
    "nonsmoker = data[nonsmoker_indices,:]\n",
    "smoker = data[smoker_indices,:]\n",
    "x = nonsmoker[:,1]\n",
    "y = smoker[:,1]\n",
    "stats.ttest_ind(x,y,equal_var=False)"
   ]
  },
  {
   "cell_type": "code",
   "execution_count": 101,
   "metadata": {},
   "outputs": [
    {
     "name": "stdout",
     "output_type": "stream",
     "text": [
      "-7.1496081295 83.273110251 3.07381274488e-10\n"
     ]
    },
    {
     "data": {
      "text/plain": [
       "1"
      ]
     },
     "execution_count": 101,
     "metadata": {},
     "output_type": "execute_result"
    }
   ],
   "source": [
    "hyptest(data)"
   ]
  },
  {
   "cell_type": "markdown",
   "metadata": {},
   "source": [
    "Based on the template corr.py provided in Absalon, implement a function which takes two equal-length vectors as input and outputs their correlation, following Chapter 5 in the textbook [1]. Please upload your code to the automatic code checking system."
   ]
  },
  {
   "cell_type": "code",
   "execution_count": 14,
   "metadata": {
    "collapsed": true
   },
   "outputs": [],
   "source": [
    "def corr(x,y):\n",
    "    #following part is from textbook:\n",
    "    def dot(v, w):\n",
    "        \"\"\"v_1 * w_1 + ... + v_n * w_n\"\"\"\n",
    "        return sum(v_i * w_i for v_i, w_i in zip(v, w))\n",
    "    def sum_of_squares(v):\n",
    "        \"\"\"v_1 * v_1 + ... + v_n * v_n\"\"\"\n",
    "        return dot(v, v)\n",
    "    def mean(x):\n",
    "        return sum(x) / len(x)\n",
    "    def de_mean(x):\n",
    "        \"\"\"translate x by subtracting its mean (so the result has mean 0)\"\"\"\n",
    "        x_bar = mean(x)\n",
    "        return [x_i - x_bar for x_i in x]\n",
    "    def variance(x):\n",
    "        \"\"\"assumes x has at least two elements\"\"\"\n",
    "        n = len(x)\n",
    "        deviations = de_mean(x)\n",
    "        return sum_of_squares(deviations) / (n - 1)\n",
    "    def std_dv(x):\n",
    "        return math.sqrt(variance(x))\n",
    "    def covariance(x,y):\n",
    "        n = len(x)\n",
    "        return dot(de_mean(x), de_mean(y))/(n-1)\n",
    "    \n",
    "    stdev_x = std_dv(x)\n",
    "    stdev_y = std_dv(y)\n",
    "    if stdev_x > 0 and stdev_y > 0:\n",
    "        return covariance(x,y)/stdev_x / stdev_y\n",
    "    else:\n",
    "        return 0"
   ]
  },
  {
   "cell_type": "code",
   "execution_count": 23,
   "metadata": {},
   "outputs": [
    {
     "data": {
      "text/plain": [
       "<matplotlib.text.Text at 0x107707e90>"
      ]
     },
     "execution_count": 23,
     "metadata": {},
     "output_type": "execute_result"
    },
    {
     "data": {
      "image/png": "[encoded data removed]",
      "text/plain": [
       "<matplotlib.figure.Figure at 0x107620950>"
      ]
     },
     "metadata": {},
     "output_type": "display_data"
    }
   ],
   "source": [
    "#2) Make a box plot of the FEV1 in the two groups. What do you see? Are you surprised?\n",
    "labels = ['Non-smokers', 'Smokers']\n",
    "plt.boxplot([nonsmoker[:,1],smoker[:,1]], labels = labels)\n",
    "plt.title('Boxplot over FEV1 for non-smokers and smokers')\n",
    "plt.ylabel('FEV1')"
   ]
  },
  {
   "cell_type": "code",
   "execution_count": 22,
   "metadata": {},
   "outputs": [
    {
     "data": {
      "text/plain": [
       "0.75645898998959993"
      ]
     },
     "execution_count": 22,
     "metadata": {},
     "output_type": "execute_result"
    }
   ],
   "source": [
    "#4c) Compute the correlation between age and FEV1, and comment on it.\n",
    "corr(age, FEV1)"
   ]
  },
  {
   "cell_type": "code",
   "execution_count": 26,
   "metadata": {},
   "outputs": [
    {
     "data": {
      "text/plain": [
       "<matplotlib.text.Text at 0x10819d410>"
      ]
     },
     "execution_count": 26,
     "metadata": {},
     "output_type": "execute_result"
    },
    {
     "data": {
      "image/png": "[encoded data removed]",
      "text/plain": [
       "<matplotlib.figure.Figure at 0x1081333d0>"
      ]
     },
     "metadata": {},
     "output_type": "display_data"
    }
   ],
   "source": [
    "plt.hist(age_smoker, 20, label='Smokers')\n",
    "plt.xlabel('Age')\n",
    "plt.ylabel('Number of smokers')\n",
    "plt.title('Histogram over age of subjects in smokers group')"
   ]
  },
  {
   "cell_type": "code",
   "execution_count": 29,
   "metadata": {},
   "outputs": [
    {
     "data": {
      "text/plain": [
       "<matplotlib.text.Text at 0x10879d590>"
      ]
     },
     "execution_count": 29,
     "metadata": {},
     "output_type": "execute_result"
    },
    {
     "data": {
      "image/png": "[encoded data removed]",
      "text/plain": [
       "<matplotlib.figure.Figure at 0x10876f290>"
      ]
     },
     "metadata": {},
     "output_type": "display_data"
    }
   ],
   "source": [
    "plt.hist(age_nonsmoker, 20, label='Non-smokers')\n",
    "plt.xlabel('Age')\n",
    "plt.ylabel('Number of non-smokers')\n",
    "plt.title('Histogram over age of subjects in non-smokers group')"
   ]
  }
 ],
 "metadata": {
  "kernelspec": {
   "display_name": "Python 3",
   "language": "python",
   "name": "python3"
  },
  "language_info": {
   "codemirror_mode": {
    "name": "ipython",
    "version": 3
   },
   "file_extension": ".py",
   "mimetype": "text/x-python",
   "name": "python",
   "nbconvert_exporter": "python",
   "pygments_lexer": "ipython3",
   "version": "3.6.4"
  }
 },
 "nbformat": 4,
 "nbformat_minor": 1
}
